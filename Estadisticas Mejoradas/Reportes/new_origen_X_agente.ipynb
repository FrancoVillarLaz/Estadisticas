{
 "cells": [
  {
   "cell_type": "markdown",
   "metadata": {},
   "source": [
    "#### Importación de librerias\n"
   ]
  },
  {
   "cell_type": "code",
   "execution_count": 2,
   "metadata": {},
   "outputs": [
    {
     "name": "stdout",
     "output_type": "stream",
     "text": [
      "Procesando: datos_01.csv (1)/(7)\n",
      "Procesando: datos_02.csv (2)/(7)\n",
      "Procesando: datos_03.csv (3)/(7)\n"
     ]
    },
    {
     "name": "stderr",
     "output_type": "stream",
     "text": [
      "C:\\Users\\BOSS\\AppData\\Local\\Temp\\ipykernel_10336\\648136427.py:18: ParserWarning: Skipping line 494236: expected 1 fields, saw 2\n",
      "\n",
      "  for chunk in pd.read_csv(os.path.join(ruta_csv, archivo), chunksize=chunksize, on_bad_lines='warn'):\n"
     ]
    },
    {
     "name": "stdout",
     "output_type": "stream",
     "text": [
      "Procesando: datos_04.csv (4)/(7)\n"
     ]
    },
    {
     "name": "stderr",
     "output_type": "stream",
     "text": [
      "C:\\Users\\BOSS\\AppData\\Local\\Temp\\ipykernel_10336\\648136427.py:18: ParserWarning: Skipping line 43580: expected 1 fields, saw 2\n",
      "\n",
      "  for chunk in pd.read_csv(os.path.join(ruta_csv, archivo), chunksize=chunksize, on_bad_lines='warn'):\n",
      "C:\\Users\\BOSS\\AppData\\Local\\Temp\\ipykernel_10336\\648136427.py:18: ParserWarning: Skipping line 70740: expected 1 fields, saw 2\n",
      "Skipping line 72133: expected 1 fields, saw 2\n",
      "Skipping line 75471: expected 1 fields, saw 2\n",
      "Skipping line 77226: expected 1 fields, saw 2\n",
      "Skipping line 84700: expected 1 fields, saw 2\n",
      "Skipping line 88180: expected 1 fields, saw 2\n",
      "Skipping line 88754: expected 1 fields, saw 2\n",
      "Skipping line 93287: expected 1 fields, saw 2\n",
      "Skipping line 96392: expected 1 fields, saw 2\n",
      "\n",
      "  for chunk in pd.read_csv(os.path.join(ruta_csv, archivo), chunksize=chunksize, on_bad_lines='warn'):\n",
      "C:\\Users\\BOSS\\AppData\\Local\\Temp\\ipykernel_10336\\648136427.py:18: ParserWarning: Skipping line 195473: expected 1 fields, saw 2\n",
      "Skipping line 195808: expected 1 fields, saw 2\n",
      "Skipping line 198389: expected 1 fields, saw 2\n",
      "\n",
      "  for chunk in pd.read_csv(os.path.join(ruta_csv, archivo), chunksize=chunksize, on_bad_lines='warn'):\n",
      "C:\\Users\\BOSS\\AppData\\Local\\Temp\\ipykernel_10336\\648136427.py:18: ParserWarning: Skipping line 201613: expected 1 fields, saw 2\n",
      "Skipping line 202417: expected 1 fields, saw 2\n",
      "\n",
      "  for chunk in pd.read_csv(os.path.join(ruta_csv, archivo), chunksize=chunksize, on_bad_lines='warn'):\n",
      "C:\\Users\\BOSS\\AppData\\Local\\Temp\\ipykernel_10336\\648136427.py:18: ParserWarning: Skipping line 260332: expected 1 fields, saw 2\n",
      "Skipping line 281034: expected 1 fields, saw 2\n",
      "Skipping line 283884: expected 1 fields, saw 2\n",
      "\n",
      "  for chunk in pd.read_csv(os.path.join(ruta_csv, archivo), chunksize=chunksize, on_bad_lines='warn'):\n",
      "C:\\Users\\BOSS\\AppData\\Local\\Temp\\ipykernel_10336\\648136427.py:18: ParserWarning: Skipping line 307225: expected 1 fields, saw 2\n",
      "Skipping line 311380: expected 1 fields, saw 2\n",
      "Skipping line 323423: expected 1 fields, saw 2\n",
      "Skipping line 324705: expected 1 fields, saw 2\n",
      "Skipping line 337753: expected 1 fields, saw 2\n",
      "Skipping line 340210: expected 1 fields, saw 2\n",
      "\n",
      "  for chunk in pd.read_csv(os.path.join(ruta_csv, archivo), chunksize=chunksize, on_bad_lines='warn'):\n",
      "C:\\Users\\BOSS\\AppData\\Local\\Temp\\ipykernel_10336\\648136427.py:18: ParserWarning: Skipping line 371216: expected 1 fields, saw 2\n",
      "\n",
      "  for chunk in pd.read_csv(os.path.join(ruta_csv, archivo), chunksize=chunksize, on_bad_lines='warn'):\n",
      "C:\\Users\\BOSS\\AppData\\Local\\Temp\\ipykernel_10336\\648136427.py:18: ParserWarning: Skipping line 402128: expected 1 fields, saw 2\n",
      "Skipping line 409186: expected 1 fields, saw 2\n",
      "Skipping line 415705: expected 1 fields, saw 2\n",
      "Skipping line 427222: expected 1 fields, saw 2\n",
      "Skipping line 435422: expected 1 fields, saw 2\n",
      "Skipping line 436692: expected 1 fields, saw 2\n",
      "Skipping line 437456: expected 1 fields, saw 2\n",
      "\n",
      "  for chunk in pd.read_csv(os.path.join(ruta_csv, archivo), chunksize=chunksize, on_bad_lines='warn'):\n",
      "C:\\Users\\BOSS\\AppData\\Local\\Temp\\ipykernel_10336\\648136427.py:18: ParserWarning: Skipping line 523511: expected 1 fields, saw 2\n",
      "Skipping line 528076: expected 1 fields, saw 2\n",
      "Skipping line 532967: expected 1 fields, saw 2\n",
      "Skipping line 539262: expected 1 fields, saw 2\n",
      "\n",
      "  for chunk in pd.read_csv(os.path.join(ruta_csv, archivo), chunksize=chunksize, on_bad_lines='warn'):\n",
      "C:\\Users\\BOSS\\AppData\\Local\\Temp\\ipykernel_10336\\648136427.py:18: ParserWarning: Skipping line 550964: expected 1 fields, saw 2\n",
      "Skipping line 551442: expected 1 fields, saw 2\n",
      "Skipping line 556803: expected 1 fields, saw 2\n",
      "Skipping line 556852: expected 1 fields, saw 2\n",
      "\n",
      "  for chunk in pd.read_csv(os.path.join(ruta_csv, archivo), chunksize=chunksize, on_bad_lines='warn'):\n"
     ]
    },
    {
     "name": "stdout",
     "output_type": "stream",
     "text": [
      "Procesando: datos_05.csv (5)/(7)\n"
     ]
    },
    {
     "name": "stderr",
     "output_type": "stream",
     "text": [
      "C:\\Users\\BOSS\\AppData\\Local\\Temp\\ipykernel_10336\\648136427.py:18: ParserWarning: Skipping line 79404: expected 1 fields, saw 2\n",
      "\n",
      "  for chunk in pd.read_csv(os.path.join(ruta_csv, archivo), chunksize=chunksize, on_bad_lines='warn'):\n",
      "C:\\Users\\BOSS\\AppData\\Local\\Temp\\ipykernel_10336\\648136427.py:18: ParserWarning: Skipping line 104541: expected 1 fields, saw 2\n",
      "Skipping line 125813: expected 1 fields, saw 2\n",
      "Skipping line 126262: expected 1 fields, saw 2\n",
      "Skipping line 128116: expected 1 fields, saw 2\n",
      "Skipping line 135310: expected 1 fields, saw 2\n",
      "\n",
      "  for chunk in pd.read_csv(os.path.join(ruta_csv, archivo), chunksize=chunksize, on_bad_lines='warn'):\n",
      "C:\\Users\\BOSS\\AppData\\Local\\Temp\\ipykernel_10336\\648136427.py:18: ParserWarning: Skipping line 212729: expected 1 fields, saw 2\n",
      "Skipping line 234613: expected 1 fields, saw 2\n",
      "Skipping line 242120: expected 1 fields, saw 2\n",
      "\n",
      "  for chunk in pd.read_csv(os.path.join(ruta_csv, archivo), chunksize=chunksize, on_bad_lines='warn'):\n",
      "C:\\Users\\BOSS\\AppData\\Local\\Temp\\ipykernel_10336\\648136427.py:18: ParserWarning: Skipping line 256556: expected 1 fields, saw 2\n",
      "Skipping line 265017: expected 1 fields, saw 2\n",
      "Skipping line 294748: expected 1 fields, saw 2\n",
      "\n",
      "  for chunk in pd.read_csv(os.path.join(ruta_csv, archivo), chunksize=chunksize, on_bad_lines='warn'):\n",
      "C:\\Users\\BOSS\\AppData\\Local\\Temp\\ipykernel_10336\\648136427.py:18: ParserWarning: Skipping line 320055: expected 1 fields, saw 2\n",
      "\n",
      "  for chunk in pd.read_csv(os.path.join(ruta_csv, archivo), chunksize=chunksize, on_bad_lines='warn'):\n",
      "C:\\Users\\BOSS\\AppData\\Local\\Temp\\ipykernel_10336\\648136427.py:18: ParserWarning: Skipping line 621850: expected 1 fields, saw 2\n",
      "\n",
      "  for chunk in pd.read_csv(os.path.join(ruta_csv, archivo), chunksize=chunksize, on_bad_lines='warn'):\n"
     ]
    },
    {
     "name": "stdout",
     "output_type": "stream",
     "text": [
      "Procesando: datos_06.csv (6)/(7)\n",
      "Procesando: todos_los_archivos.csv (7)/(7)\n"
     ]
    },
    {
     "ename": "OSError",
     "evalue": "[Errno 28] No space left on device",
     "output_type": "error",
     "traceback": [
      "\u001b[1;31m---------------------------------------------------------------------------\u001b[0m",
      "\u001b[1;31mOSError\u001b[0m                                   Traceback (most recent call last)",
      "Cell \u001b[1;32mIn[2], line 19\u001b[0m\n\u001b[0;32m     17\u001b[0m     \u001b[38;5;28mprint\u001b[39m(\u001b[38;5;124mf\u001b[39m\u001b[38;5;124m'\u001b[39m\u001b[38;5;124mProcesando: \u001b[39m\u001b[38;5;132;01m{\u001b[39;00marchivo\u001b[38;5;132;01m}\u001b[39;00m\u001b[38;5;124m (\u001b[39m\u001b[38;5;132;01m{\u001b[39;00mi\u001b[38;5;241m+\u001b[39m\u001b[38;5;241m1\u001b[39m\u001b[38;5;132;01m}\u001b[39;00m\u001b[38;5;124m)/(\u001b[39m\u001b[38;5;132;01m{\u001b[39;00m\u001b[38;5;28mlen\u001b[39m(archivos_csv)\u001b[38;5;132;01m}\u001b[39;00m\u001b[38;5;124m)\u001b[39m\u001b[38;5;124m'\u001b[39m)\n\u001b[0;32m     18\u001b[0m     \u001b[38;5;28;01mfor\u001b[39;00m chunk \u001b[38;5;129;01min\u001b[39;00m pd\u001b[38;5;241m.\u001b[39mread_csv(os\u001b[38;5;241m.\u001b[39mpath\u001b[38;5;241m.\u001b[39mjoin(ruta_csv, archivo), chunksize\u001b[38;5;241m=\u001b[39mchunksize, on_bad_lines\u001b[38;5;241m=\u001b[39m\u001b[38;5;124m'\u001b[39m\u001b[38;5;124mwarn\u001b[39m\u001b[38;5;124m'\u001b[39m):\n\u001b[1;32m---> 19\u001b[0m         \u001b[43mchunk\u001b[49m\u001b[38;5;241;43m.\u001b[39;49m\u001b[43mto_csv\u001b[49m\u001b[43m(\u001b[49m\u001b[43marchivo_salida\u001b[49m\u001b[43m,\u001b[49m\u001b[43mmode\u001b[49m\u001b[38;5;241;43m=\u001b[39;49m\u001b[38;5;124;43m'\u001b[39;49m\u001b[38;5;124;43ma\u001b[39;49m\u001b[38;5;124;43m'\u001b[39;49m\u001b[43m,\u001b[49m\u001b[43mindex\u001b[49m\u001b[38;5;241;43m=\u001b[39;49m\u001b[38;5;28;43;01mFalse\u001b[39;49;00m\u001b[43m,\u001b[49m\u001b[43mheader\u001b[49m\u001b[38;5;241;43m=\u001b[39;49m\u001b[43m(\u001b[49m\u001b[43mi\u001b[49m\u001b[38;5;241;43m==\u001b[39;49m\u001b[38;5;241;43m0\u001b[39;49m\u001b[43m)\u001b[49m\u001b[43m)\u001b[49m\n\u001b[0;32m     21\u001b[0m \u001b[38;5;28mprint\u001b[39m(\u001b[38;5;124m\"\u001b[39m\u001b[38;5;124m✅ Todos los archivos CSV han sido unidos correctamente.\u001b[39m\u001b[38;5;124m\"\u001b[39m)\n",
      "File \u001b[1;32mc:\\Users\\BOSS\\Documents\\Estadisticas\\.venv\\Lib\\site-packages\\pandas\\util\\_decorators.py:333\u001b[0m, in \u001b[0;36mdeprecate_nonkeyword_arguments.<locals>.decorate.<locals>.wrapper\u001b[1;34m(*args, **kwargs)\u001b[0m\n\u001b[0;32m    327\u001b[0m \u001b[38;5;28;01mif\u001b[39;00m \u001b[38;5;28mlen\u001b[39m(args) \u001b[38;5;241m>\u001b[39m num_allow_args:\n\u001b[0;32m    328\u001b[0m     warnings\u001b[38;5;241m.\u001b[39mwarn(\n\u001b[0;32m    329\u001b[0m         msg\u001b[38;5;241m.\u001b[39mformat(arguments\u001b[38;5;241m=\u001b[39m_format_argument_list(allow_args)),\n\u001b[0;32m    330\u001b[0m         \u001b[38;5;167;01mFutureWarning\u001b[39;00m,\n\u001b[0;32m    331\u001b[0m         stacklevel\u001b[38;5;241m=\u001b[39mfind_stack_level(),\n\u001b[0;32m    332\u001b[0m     )\n\u001b[1;32m--> 333\u001b[0m \u001b[38;5;28;01mreturn\u001b[39;00m \u001b[43mfunc\u001b[49m\u001b[43m(\u001b[49m\u001b[38;5;241;43m*\u001b[39;49m\u001b[43margs\u001b[49m\u001b[43m,\u001b[49m\u001b[43m \u001b[49m\u001b[38;5;241;43m*\u001b[39;49m\u001b[38;5;241;43m*\u001b[39;49m\u001b[43mkwargs\u001b[49m\u001b[43m)\u001b[49m\n",
      "File \u001b[1;32mc:\\Users\\BOSS\\Documents\\Estadisticas\\.venv\\Lib\\site-packages\\pandas\\core\\generic.py:3967\u001b[0m, in \u001b[0;36mNDFrame.to_csv\u001b[1;34m(self, path_or_buf, sep, na_rep, float_format, columns, header, index, index_label, mode, encoding, compression, quoting, quotechar, lineterminator, chunksize, date_format, doublequote, escapechar, decimal, errors, storage_options)\u001b[0m\n\u001b[0;32m   3956\u001b[0m df \u001b[38;5;241m=\u001b[39m \u001b[38;5;28mself\u001b[39m \u001b[38;5;28;01mif\u001b[39;00m \u001b[38;5;28misinstance\u001b[39m(\u001b[38;5;28mself\u001b[39m, ABCDataFrame) \u001b[38;5;28;01melse\u001b[39;00m \u001b[38;5;28mself\u001b[39m\u001b[38;5;241m.\u001b[39mto_frame()\n\u001b[0;32m   3958\u001b[0m formatter \u001b[38;5;241m=\u001b[39m DataFrameFormatter(\n\u001b[0;32m   3959\u001b[0m     frame\u001b[38;5;241m=\u001b[39mdf,\n\u001b[0;32m   3960\u001b[0m     header\u001b[38;5;241m=\u001b[39mheader,\n\u001b[1;32m   (...)\u001b[0m\n\u001b[0;32m   3964\u001b[0m     decimal\u001b[38;5;241m=\u001b[39mdecimal,\n\u001b[0;32m   3965\u001b[0m )\n\u001b[1;32m-> 3967\u001b[0m \u001b[38;5;28;01mreturn\u001b[39;00m \u001b[43mDataFrameRenderer\u001b[49m\u001b[43m(\u001b[49m\u001b[43mformatter\u001b[49m\u001b[43m)\u001b[49m\u001b[38;5;241;43m.\u001b[39;49m\u001b[43mto_csv\u001b[49m\u001b[43m(\u001b[49m\n\u001b[0;32m   3968\u001b[0m \u001b[43m    \u001b[49m\u001b[43mpath_or_buf\u001b[49m\u001b[43m,\u001b[49m\n\u001b[0;32m   3969\u001b[0m \u001b[43m    \u001b[49m\u001b[43mlineterminator\u001b[49m\u001b[38;5;241;43m=\u001b[39;49m\u001b[43mlineterminator\u001b[49m\u001b[43m,\u001b[49m\n\u001b[0;32m   3970\u001b[0m \u001b[43m    \u001b[49m\u001b[43msep\u001b[49m\u001b[38;5;241;43m=\u001b[39;49m\u001b[43msep\u001b[49m\u001b[43m,\u001b[49m\n\u001b[0;32m   3971\u001b[0m \u001b[43m    \u001b[49m\u001b[43mencoding\u001b[49m\u001b[38;5;241;43m=\u001b[39;49m\u001b[43mencoding\u001b[49m\u001b[43m,\u001b[49m\n\u001b[0;32m   3972\u001b[0m \u001b[43m    \u001b[49m\u001b[43merrors\u001b[49m\u001b[38;5;241;43m=\u001b[39;49m\u001b[43merrors\u001b[49m\u001b[43m,\u001b[49m\n\u001b[0;32m   3973\u001b[0m \u001b[43m    \u001b[49m\u001b[43mcompression\u001b[49m\u001b[38;5;241;43m=\u001b[39;49m\u001b[43mcompression\u001b[49m\u001b[43m,\u001b[49m\n\u001b[0;32m   3974\u001b[0m \u001b[43m    \u001b[49m\u001b[43mquoting\u001b[49m\u001b[38;5;241;43m=\u001b[39;49m\u001b[43mquoting\u001b[49m\u001b[43m,\u001b[49m\n\u001b[0;32m   3975\u001b[0m \u001b[43m    \u001b[49m\u001b[43mcolumns\u001b[49m\u001b[38;5;241;43m=\u001b[39;49m\u001b[43mcolumns\u001b[49m\u001b[43m,\u001b[49m\n\u001b[0;32m   3976\u001b[0m \u001b[43m    \u001b[49m\u001b[43mindex_label\u001b[49m\u001b[38;5;241;43m=\u001b[39;49m\u001b[43mindex_label\u001b[49m\u001b[43m,\u001b[49m\n\u001b[0;32m   3977\u001b[0m \u001b[43m    \u001b[49m\u001b[43mmode\u001b[49m\u001b[38;5;241;43m=\u001b[39;49m\u001b[43mmode\u001b[49m\u001b[43m,\u001b[49m\n\u001b[0;32m   3978\u001b[0m \u001b[43m    \u001b[49m\u001b[43mchunksize\u001b[49m\u001b[38;5;241;43m=\u001b[39;49m\u001b[43mchunksize\u001b[49m\u001b[43m,\u001b[49m\n\u001b[0;32m   3979\u001b[0m \u001b[43m    \u001b[49m\u001b[43mquotechar\u001b[49m\u001b[38;5;241;43m=\u001b[39;49m\u001b[43mquotechar\u001b[49m\u001b[43m,\u001b[49m\n\u001b[0;32m   3980\u001b[0m \u001b[43m    \u001b[49m\u001b[43mdate_format\u001b[49m\u001b[38;5;241;43m=\u001b[39;49m\u001b[43mdate_format\u001b[49m\u001b[43m,\u001b[49m\n\u001b[0;32m   3981\u001b[0m \u001b[43m    \u001b[49m\u001b[43mdoublequote\u001b[49m\u001b[38;5;241;43m=\u001b[39;49m\u001b[43mdoublequote\u001b[49m\u001b[43m,\u001b[49m\n\u001b[0;32m   3982\u001b[0m \u001b[43m    \u001b[49m\u001b[43mescapechar\u001b[49m\u001b[38;5;241;43m=\u001b[39;49m\u001b[43mescapechar\u001b[49m\u001b[43m,\u001b[49m\n\u001b[0;32m   3983\u001b[0m \u001b[43m    \u001b[49m\u001b[43mstorage_options\u001b[49m\u001b[38;5;241;43m=\u001b[39;49m\u001b[43mstorage_options\u001b[49m\u001b[43m,\u001b[49m\n\u001b[0;32m   3984\u001b[0m \u001b[43m\u001b[49m\u001b[43m)\u001b[49m\n",
      "File \u001b[1;32mc:\\Users\\BOSS\\Documents\\Estadisticas\\.venv\\Lib\\site-packages\\pandas\\io\\formats\\format.py:1014\u001b[0m, in \u001b[0;36mDataFrameRenderer.to_csv\u001b[1;34m(self, path_or_buf, encoding, sep, columns, index_label, mode, compression, quoting, quotechar, lineterminator, chunksize, date_format, doublequote, escapechar, errors, storage_options)\u001b[0m\n\u001b[0;32m    993\u001b[0m     created_buffer \u001b[38;5;241m=\u001b[39m \u001b[38;5;28;01mFalse\u001b[39;00m\n\u001b[0;32m    995\u001b[0m csv_formatter \u001b[38;5;241m=\u001b[39m CSVFormatter(\n\u001b[0;32m    996\u001b[0m     path_or_buf\u001b[38;5;241m=\u001b[39mpath_or_buf,\n\u001b[0;32m    997\u001b[0m     lineterminator\u001b[38;5;241m=\u001b[39mlineterminator,\n\u001b[1;32m   (...)\u001b[0m\n\u001b[0;32m   1012\u001b[0m     formatter\u001b[38;5;241m=\u001b[39m\u001b[38;5;28mself\u001b[39m\u001b[38;5;241m.\u001b[39mfmt,\n\u001b[0;32m   1013\u001b[0m )\n\u001b[1;32m-> 1014\u001b[0m \u001b[43mcsv_formatter\u001b[49m\u001b[38;5;241;43m.\u001b[39;49m\u001b[43msave\u001b[49m\u001b[43m(\u001b[49m\u001b[43m)\u001b[49m\n\u001b[0;32m   1016\u001b[0m \u001b[38;5;28;01mif\u001b[39;00m created_buffer:\n\u001b[0;32m   1017\u001b[0m     \u001b[38;5;28;01massert\u001b[39;00m \u001b[38;5;28misinstance\u001b[39m(path_or_buf, StringIO)\n",
      "File \u001b[1;32mc:\\Users\\BOSS\\Documents\\Estadisticas\\.venv\\Lib\\site-packages\\pandas\\io\\formats\\csvs.py:270\u001b[0m, in \u001b[0;36mCSVFormatter.save\u001b[1;34m(self)\u001b[0m\n\u001b[0;32m    251\u001b[0m \u001b[38;5;28;01mwith\u001b[39;00m get_handle(\n\u001b[0;32m    252\u001b[0m     \u001b[38;5;28mself\u001b[39m\u001b[38;5;241m.\u001b[39mfilepath_or_buffer,\n\u001b[0;32m    253\u001b[0m     \u001b[38;5;28mself\u001b[39m\u001b[38;5;241m.\u001b[39mmode,\n\u001b[1;32m   (...)\u001b[0m\n\u001b[0;32m    258\u001b[0m ) \u001b[38;5;28;01mas\u001b[39;00m handles:\n\u001b[0;32m    259\u001b[0m     \u001b[38;5;66;03m# Note: self.encoding is irrelevant here\u001b[39;00m\n\u001b[0;32m    260\u001b[0m     \u001b[38;5;28mself\u001b[39m\u001b[38;5;241m.\u001b[39mwriter \u001b[38;5;241m=\u001b[39m csvlib\u001b[38;5;241m.\u001b[39mwriter(\n\u001b[0;32m    261\u001b[0m         handles\u001b[38;5;241m.\u001b[39mhandle,\n\u001b[0;32m    262\u001b[0m         lineterminator\u001b[38;5;241m=\u001b[39m\u001b[38;5;28mself\u001b[39m\u001b[38;5;241m.\u001b[39mlineterminator,\n\u001b[1;32m   (...)\u001b[0m\n\u001b[0;32m    267\u001b[0m         quotechar\u001b[38;5;241m=\u001b[39m\u001b[38;5;28mself\u001b[39m\u001b[38;5;241m.\u001b[39mquotechar,\n\u001b[0;32m    268\u001b[0m     )\n\u001b[1;32m--> 270\u001b[0m     \u001b[38;5;28;43mself\u001b[39;49m\u001b[38;5;241;43m.\u001b[39;49m\u001b[43m_save\u001b[49m\u001b[43m(\u001b[49m\u001b[43m)\u001b[49m\n",
      "File \u001b[1;32mc:\\Users\\BOSS\\Documents\\Estadisticas\\.venv\\Lib\\site-packages\\pandas\\io\\formats\\csvs.py:275\u001b[0m, in \u001b[0;36mCSVFormatter._save\u001b[1;34m(self)\u001b[0m\n\u001b[0;32m    273\u001b[0m \u001b[38;5;28;01mif\u001b[39;00m \u001b[38;5;28mself\u001b[39m\u001b[38;5;241m.\u001b[39m_need_to_save_header:\n\u001b[0;32m    274\u001b[0m     \u001b[38;5;28mself\u001b[39m\u001b[38;5;241m.\u001b[39m_save_header()\n\u001b[1;32m--> 275\u001b[0m \u001b[38;5;28;43mself\u001b[39;49m\u001b[38;5;241;43m.\u001b[39;49m\u001b[43m_save_body\u001b[49m\u001b[43m(\u001b[49m\u001b[43m)\u001b[49m\n",
      "File \u001b[1;32mc:\\Users\\BOSS\\Documents\\Estadisticas\\.venv\\Lib\\site-packages\\pandas\\io\\formats\\csvs.py:313\u001b[0m, in \u001b[0;36mCSVFormatter._save_body\u001b[1;34m(self)\u001b[0m\n\u001b[0;32m    311\u001b[0m \u001b[38;5;28;01mif\u001b[39;00m start_i \u001b[38;5;241m>\u001b[39m\u001b[38;5;241m=\u001b[39m end_i:\n\u001b[0;32m    312\u001b[0m     \u001b[38;5;28;01mbreak\u001b[39;00m\n\u001b[1;32m--> 313\u001b[0m \u001b[38;5;28;43mself\u001b[39;49m\u001b[38;5;241;43m.\u001b[39;49m\u001b[43m_save_chunk\u001b[49m\u001b[43m(\u001b[49m\u001b[43mstart_i\u001b[49m\u001b[43m,\u001b[49m\u001b[43m \u001b[49m\u001b[43mend_i\u001b[49m\u001b[43m)\u001b[49m\n",
      "File \u001b[1;32mc:\\Users\\BOSS\\Documents\\Estadisticas\\.venv\\Lib\\site-packages\\pandas\\io\\formats\\csvs.py:324\u001b[0m, in \u001b[0;36mCSVFormatter._save_chunk\u001b[1;34m(self, start_i, end_i)\u001b[0m\n\u001b[0;32m    321\u001b[0m data \u001b[38;5;241m=\u001b[39m \u001b[38;5;28mlist\u001b[39m(res\u001b[38;5;241m.\u001b[39m_iter_column_arrays())\n\u001b[0;32m    323\u001b[0m ix \u001b[38;5;241m=\u001b[39m \u001b[38;5;28mself\u001b[39m\u001b[38;5;241m.\u001b[39mdata_index[slicer]\u001b[38;5;241m.\u001b[39m_get_values_for_csv(\u001b[38;5;241m*\u001b[39m\u001b[38;5;241m*\u001b[39m\u001b[38;5;28mself\u001b[39m\u001b[38;5;241m.\u001b[39m_number_format)\n\u001b[1;32m--> 324\u001b[0m \u001b[43mlibwriters\u001b[49m\u001b[38;5;241;43m.\u001b[39;49m\u001b[43mwrite_csv_rows\u001b[49m\u001b[43m(\u001b[49m\n\u001b[0;32m    325\u001b[0m \u001b[43m    \u001b[49m\u001b[43mdata\u001b[49m\u001b[43m,\u001b[49m\n\u001b[0;32m    326\u001b[0m \u001b[43m    \u001b[49m\u001b[43mix\u001b[49m\u001b[43m,\u001b[49m\n\u001b[0;32m    327\u001b[0m \u001b[43m    \u001b[49m\u001b[38;5;28;43mself\u001b[39;49m\u001b[38;5;241;43m.\u001b[39;49m\u001b[43mnlevels\u001b[49m\u001b[43m,\u001b[49m\n\u001b[0;32m    328\u001b[0m \u001b[43m    \u001b[49m\u001b[38;5;28;43mself\u001b[39;49m\u001b[38;5;241;43m.\u001b[39;49m\u001b[43mcols\u001b[49m\u001b[43m,\u001b[49m\n\u001b[0;32m    329\u001b[0m \u001b[43m    \u001b[49m\u001b[38;5;28;43mself\u001b[39;49m\u001b[38;5;241;43m.\u001b[39;49m\u001b[43mwriter\u001b[49m\u001b[43m,\u001b[49m\n\u001b[0;32m    330\u001b[0m \u001b[43m\u001b[49m\u001b[43m)\u001b[49m\n",
      "File \u001b[1;32mwriters.pyx:73\u001b[0m, in \u001b[0;36mpandas._libs.writers.write_csv_rows\u001b[1;34m()\u001b[0m\n",
      "\u001b[1;31mOSError\u001b[0m: [Errno 28] No space left on device"
     ]
    }
   ],
   "source": [
    "# import pandas as pd\n",
    "# import matplotlib.pyplot as plt\n",
    "# import seaborn as sn\n",
    "# import os\n",
    "# from pathlib import Path\n",
    "\n",
    "# ruta_csv = Path(\"C:/Users/BOSS/Documents/Estadisticas/Estadisticas Mejoradas/Reportes/\")\n",
    "# # 📄 Archivo final donde se unirán todos los CSV\n",
    "# archivo_salida = Path(\"C:/Users/BOSS/Documents/Estadisticas/Estadisticas Mejoradas/Reportes/todos_los_archivos.csv\")\n",
    "\n",
    "\n",
    "# archivos_csv=[f for f in os.listdir(ruta_csv) if f.endswith('csv')]\n",
    "\n",
    "# chunksize=50000\n",
    "\n",
    "# for i, archivo in enumerate(archivos_csv):\n",
    "#     print(f'Procesando: {archivo} ({i+1})/({len(archivos_csv)})')\n",
    "#     for chunk in pd.read_csv(os.path.join(ruta_csv, archivo), chunksize=chunksize, on_bad_lines='warn'):\n",
    "#         chunk.to_csv(archivo_salida,mode='a',index=False,header=(i==0))\n",
    "\n",
    "# print(\"✅ Todos los archivos CSV han sido unidos correctamente.\")\n"
   ]
  },
  {
   "cell_type": "code",
   "execution_count": null,
   "metadata": {},
   "outputs": [
    {
     "ename": "NameError",
     "evalue": "name 'archivo_salida' is not defined",
     "output_type": "error",
     "traceback": [
      "\u001b[1;31m---------------------------------------------------------------------------\u001b[0m",
      "\u001b[1;31mNameError\u001b[0m                                 Traceback (most recent call last)",
      "Cell \u001b[1;32mIn[4], line 34\u001b[0m\n\u001b[0;32m     32\u001b[0m ruta_de_archivo\u001b[38;5;241m=\u001b[39m\u001b[38;5;124m'\u001b[39m\u001b[38;5;124mC:/Users/BOSS/Documents/Estadisticas/Estadisticas Mejoradas/Reportes/todos_los_archivos.csv\u001b[39m\u001b[38;5;124m'\u001b[39m\n\u001b[0;32m     33\u001b[0m resultado\u001b[38;5;241m=\u001b[39mconfiguraciones(archivo_entrada\u001b[38;5;241m=\u001b[39mruta_de_archivo,archivo_salida\u001b[38;5;241m=\u001b[39m\u001b[38;5;124m'\u001b[39m\u001b[38;5;124mestadisticas_fechas_01.csv\u001b[39m\u001b[38;5;124m'\u001b[39m,imagen_salida\u001b[38;5;241m=\u001b[39m\u001b[38;5;124m'\u001b[39m\u001b[38;5;124mestadisticas_fechas_01.png\u001b[39m\u001b[38;5;124m'\u001b[39m)\n\u001b[1;32m---> 34\u001b[0m \u001b[43mcrear_dataframe\u001b[49m\u001b[43m(\u001b[49m\u001b[43mresultado\u001b[49m\u001b[43m)\u001b[49m\n",
      "Cell \u001b[1;32mIn[4], line 29\u001b[0m, in \u001b[0;36mcrear_dataframe\u001b[1;34m(resultado)\u001b[0m\n\u001b[0;32m     25\u001b[0m total_cortes\u001b[38;5;241m=\u001b[39mdf_resultado[\u001b[38;5;124m'\u001b[39m\u001b[38;5;124mCantidad de Cortes\u001b[39m\u001b[38;5;124m'\u001b[39m]\u001b[38;5;241m.\u001b[39msum()\n\u001b[0;32m     26\u001b[0m df_resultado\u001b[38;5;241m=\u001b[39mpd\u001b[38;5;241m.\u001b[39mconcat([df_resultado,pd\u001b[38;5;241m.\u001b[39mDataFrame({\u001b[38;5;124m'\u001b[39m\u001b[38;5;124mNombre Agente\u001b[39m\u001b[38;5;124m'\u001b[39m:[\u001b[38;5;124m'\u001b[39m\u001b[38;5;124mTotal\u001b[39m\u001b[38;5;124m'\u001b[39m],\u001b[38;5;124m'\u001b[39m\u001b[38;5;124mCantidad de Cortes\u001b[39m\u001b[38;5;124m'\u001b[39m:[total_cortes]})],\n\u001b[0;32m     27\u001b[0m                        ignore_index\u001b[38;5;241m=\u001b[39m\u001b[38;5;28;01mTrue\u001b[39;00m\n\u001b[0;32m     28\u001b[0m                        )\n\u001b[1;32m---> 29\u001b[0m df_resultado\u001b[38;5;241m.\u001b[39mto_csv(\u001b[43marchivo_salida\u001b[49m,sep\u001b[38;5;241m=\u001b[39m\u001b[38;5;124m'\u001b[39m\u001b[38;5;124m;\u001b[39m\u001b[38;5;124m'\u001b[39m,index\u001b[38;5;241m=\u001b[39m\u001b[38;5;28;01mFalse\u001b[39;00m)\n",
      "\u001b[1;31mNameError\u001b[0m: name 'archivo_salida' is not defined"
     ]
    }
   ],
   "source": [
    "import pandas as pd\n",
    "import seaborn as sn\n",
    "import matplotlib.pyplot as plt\n",
    "def configuraciones():\n",
    "    archivo_entrada='C:/Users/BOSS/Documents/Estadisticas/Estadisticas Mejoradas/Reportes/todos_los_archivos.csv'\n",
    "\n",
    "    resultado={}\n",
    "    chunksize=50000\n",
    "    for chunk in pd.read_csv(archivo_entrada,chunksize=chunksize,sep=';',\n",
    "                             usecols=['Nombre Agente','Origen Corte'],\n",
    "                             dtype={'Nombre Agente':str,'Origen Corte':str},\n",
    "                             low_memory=False):\n",
    "        chunk_filtrado=chunk[(chunk['Nombre Agente'].notna()) &\n",
    "                              chunk['Origen Corte'] == 'Agente']\n",
    " \n",
    "\n",
    "        conteo=chunk_filtrado['Nombre Agente'].value_counts().to_dict()\n",
    "    for agente,cantidad in conteo.items():\n",
    "        resultado[agente]=resultado.get(agente,0) + cantidad\n",
    "    return resultado\n",
    "   \n",
    "\n",
    "def crear_dataframe(resultado):\n",
    "    archivo_salida = 'estadisticas_agentes.csv'\n",
    "    imagen_salida = 'estadisticas_agentes.png'\n",
    "    \n",
    "    df_resultado=pd.DataFrame({'Nombre Agente': resultado.keys(), 'Cantidad de Cortes': resultado.values()})\n",
    "\n",
    "    total_cortes=df_resultado['Cantidad de Cortes'].sum()\n",
    "    df_resultado=pd.concat([df_resultado,pd.DataFrame({'Nombre Agente':['Total'],'Cantidad de Cortes':[total_cortes]})],\n",
    "                           ignore_index=True\n",
    "                           )\n",
    "    df_resultado.to_csv(archivo_salida,sep=';',index=False)\n",
    "\n",
    "def filtrado_estadisticas(rangoFecha, horario,chunk):\n",
    "    usuario=input('Introduce el turno a elegir: ')\n",
    "    resultado=configuraciones()\n",
    "    crear_dataframe(resultado)\n",
    "    chunk_filtrado=chunk[ \n",
    "         (chunk['Nombre Agente']notna()) &\n",
    "         (chunk['Origen Corte'] == 'Agente') &\n",
    "         (usuario == 'Mañana' | usuario == 'M') &\n",
    "         (usuario == 'Tarde' | )        \n",
    "         ]\n",
    "\n",
    "\n",
    "\n",
    "if __name__  == \"__main__\":\n",
    "       pass\n",
    "    # filtrado_estadisticas(ayer, mañana)"
   ]
  },
  {
   "cell_type": "code",
   "execution_count": null,
   "metadata": {},
   "outputs": [],
   "source": []
  },
  {
   "cell_type": "code",
   "execution_count": null,
   "metadata": {},
   "outputs": [],
   "source": []
  },
  {
   "cell_type": "code",
   "execution_count": null,
   "metadata": {},
   "outputs": [],
   "source": []
  },
  {
   "cell_type": "code",
   "execution_count": null,
   "metadata": {},
   "outputs": [],
   "source": []
  },
  {
   "cell_type": "code",
   "execution_count": null,
   "metadata": {},
   "outputs": [],
   "source": []
  },
  {
   "cell_type": "code",
   "execution_count": null,
   "metadata": {},
   "outputs": [],
   "source": []
  },
  {
   "cell_type": "code",
   "execution_count": null,
   "metadata": {},
   "outputs": [],
   "source": []
  },
  {
   "cell_type": "code",
   "execution_count": null,
   "metadata": {},
   "outputs": [],
   "source": []
  },
  {
   "cell_type": "code",
   "execution_count": null,
   "metadata": {},
   "outputs": [],
   "source": []
  },
  {
   "cell_type": "code",
   "execution_count": null,
   "metadata": {},
   "outputs": [],
   "source": []
  }
 ],
 "metadata": {
  "kernelspec": {
   "display_name": ".venv",
   "language": "python",
   "name": "python3"
  },
  "language_info": {
   "codemirror_mode": {
    "name": "ipython",
    "version": 3
   },
   "file_extension": ".py",
   "mimetype": "text/x-python",
   "name": "python",
   "nbconvert_exporter": "python",
   "pygments_lexer": "ipython3",
   "version": "3.13.2"
  }
 },
 "nbformat": 4,
 "nbformat_minor": 2
}
